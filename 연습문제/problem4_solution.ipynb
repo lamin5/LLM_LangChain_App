{
 "cells": [
  {
   "cell_type": "code",
   "execution_count": 1,
   "id": "4a4628d4",
   "metadata": {},
   "outputs": [],
   "source": [
    "from langchain_ollama import ChatOllama\n",
    "from langchain_community.document_loaders import PyPDFLoader\n",
    "from langchain.text_splitter import RecursiveCharacterTextSplitter\n",
    "from langchain_community.vectorstores import FAISS\n",
    "from langchain_huggingface import HuggingFaceEmbeddings\n",
    "from langchain.chains import RetrievalQA\n",
    "from langchain.prompts import PromptTemplate\n",
    "import time\n",
    "\n",
    "# 모델 일관성을 위한 상수 정의\n",
    "MODEL_NAME = \"qwen2.5:1.5b\"\n",
    "BASE_URL = \"http://localhost:11434\"\n",
    "EMBEDDING_MODEL_NAME = \"sentence-transformers/paraphrase-multilingual-MiniLM-L12-v2\""
   ]
  },
  {
   "cell_type": "code",
   "execution_count": 2,
   "id": "aa5c6905",
   "metadata": {},
   "outputs": [
    {
     "name": "stdout",
     "output_type": "stream",
     "text": [
      "============================================================\n",
      " 로컬 RAG 시스템 초기화\n",
      "============================================================\n",
      "==> 1. 문서 로딩 → PDF 읽기...\n",
      "총 39페이지 로드 완료\n"
     ]
    }
   ],
   "source": [
    "print(\"=\" * 60)\n",
    "print(\" 로컬 RAG 시스템 초기화\")\n",
    "print(\"=\" * 60)\n",
    "\n",
    "# 1. 문서 로딩\n",
    "print(\"==> 1. 문서 로딩 → PDF 읽기...\")\n",
    "try:\n",
    "    loader = PyPDFLoader('../data/tutorial-korean.pdf')\n",
    "    documents = loader.load()\n",
    "    print(f\"총 {len(documents)}페이지 로드 완료\")\n",
    "except Exception as e:\n",
    "    print(f\"PDF 로딩 실패: {e}\")\n",
    "    print(\"'../data/tutorial-korean.pdf' 파일이 존재하는지 확인해주세요.\")\n",
    "    exit(1)\n"
   ]
  },
  {
   "cell_type": "code",
   "execution_count": 3,
   "id": "72adcdcc",
   "metadata": {},
   "outputs": [
    {
     "name": "stdout",
     "output_type": "stream",
     "text": [
      "==> 2. 문서 분할 → 작은 청크로 나누기\n",
      "76개 청크 생성 완료\n",
      "평균 청크 길이: 605자\n",
      "==> 3. 임베딩 설정...\n",
      "임베딩 모델 다운로드 중... (최초 실행 시 시간이 소요됩니다)\n"
     ]
    },
    {
     "name": "stderr",
     "output_type": "stream",
     "text": [
      "c:\\Users\\user\\AppData\\Local\\pypoetry\\Cache\\virtualenvs\\langchain-basic-kGdHTiMZ-py3.12\\Lib\\site-packages\\tqdm\\auto.py:21: TqdmWarning: IProgress not found. Please update jupyter and ipywidgets. See https://ipywidgets.readthedocs.io/en/stable/user_install.html\n",
      "  from .autonotebook import tqdm as notebook_tqdm\n"
     ]
    },
    {
     "name": "stdout",
     "output_type": "stream",
     "text": [
      "HuggingFace 임베딩 모델 설정 완료\n"
     ]
    }
   ],
   "source": [
    "\n",
    "# 2. 문서 분할\n",
    "print(\"==> 2. 문서 분할 → 작은 청크로 나누기\")\n",
    "text_splitter = RecursiveCharacterTextSplitter(\n",
    "    chunk_size=800,\n",
    "    chunk_overlap=150,\n",
    "    separators=[\"\\n\\n\", \"\\n\", \".\", \" \", \"\"]\n",
    ")\n",
    "\n",
    "chunks = text_splitter.split_documents(documents)\n",
    "print(f\"{len(chunks)}개 청크 생성 완료\")\n",
    "print(f\"평균 청크 길이: {sum(len(chunk.page_content) for chunk in chunks) / len(chunks):.0f}자\")\n",
    "\n",
    "# 3. 임베딩 설정\n",
    "print(\"==> 3. 임베딩 설정...\")\n",
    "print(\"임베딩 모델 다운로드 중... (최초 실행 시 시간이 소요됩니다)\")\n",
    "try:\n",
    "    embeddings = HuggingFaceEmbeddings(\n",
    "        model_name=EMBEDDING_MODEL_NAME,\n",
    "        model_kwargs={'device': 'cpu'},\n",
    "        encode_kwargs={'normalize_embeddings': True}\n",
    "    )\n",
    "    print(\"HuggingFace 임베딩 모델 설정 완료\")\n",
    "except Exception as e:\n",
    "    print(f\"임베딩 모델 설정 실패: {e}\")\n",
    "    print(\"인터넷 연결을 확인하거나 다음 패키지를 설치해주세요:\")\n",
    "    print(\"pip install sentence-transformers\")\n",
    "    exit(1)"
   ]
  },
  {
   "cell_type": "code",
   "execution_count": 4,
   "id": "5d4b16f1",
   "metadata": {},
   "outputs": [
    {
     "name": "stdout",
     "output_type": "stream",
     "text": [
      "==> 4. 벡터스토어 생성...\n",
      "임베딩 생성 중... (시간이 소요됩니다)\n",
      "FAISS 벡터스토어 생성 완료 (76개 벡터)\n",
      "임베딩 소요 시간: 1.5초\n"
     ]
    }
   ],
   "source": [
    "\n",
    "# 4. 벡터스토어 생성\n",
    "print(\"==> 4. 벡터스토어 생성...\")\n",
    "print(\"임베딩 생성 중... (시간이 소요됩니다)\")\n",
    "\n",
    "start_time = time.time()\n",
    "try:\n",
    "    vectorstore = FAISS.from_documents(chunks, embeddings)\n",
    "    embedding_time = time.time() - start_time\n",
    "    print(f\"FAISS 벡터스토어 생성 완료 ({len(chunks)}개 벡터)\")\n",
    "    print(f\"임베딩 소요 시간: {embedding_time:.1f}초\")\n",
    "except Exception as e:\n",
    "    print(f\"벡터스토어 생성 실패: {e}\")\n",
    "    print(\"모델이 설치되어 있는지 확인해주세요: ollama pull qwen2.5:latest\")\n",
    "    exit(1)\n"
   ]
  },
  {
   "cell_type": "code",
   "execution_count": 5,
   "id": "dbe3f76e",
   "metadata": {},
   "outputs": [
    {
     "name": "stdout",
     "output_type": "stream",
     "text": [
      "==> 5. 검색기 설정...\n",
      "검색기 설정 완료\n",
      "==> 6. LLM 설정...\n",
      "LLM 설정 완료\n"
     ]
    }
   ],
   "source": [
    "\n",
    "# 5. 검색기 설정\n",
    "print(\"==> 5. 검색기 설정...\")\n",
    "retriever = vectorstore.as_retriever(\n",
    "    search_type=\"similarity\",\n",
    "    search_kwargs={\"k\": 3}\n",
    ")\n",
    "print(\"검색기 설정 완료\")\n",
    "\n",
    "# 6. LLM 설정\n",
    "print(\"==> 6. LLM 설정...\")\n",
    "try:\n",
    "    llm = ChatOllama(\n",
    "        model=MODEL_NAME,\n",
    "        temperature=0.1,\n",
    "        num_predict=800\n",
    "    )\n",
    "    print(\"LLM 설정 완료\")\n",
    "except Exception as e:\n",
    "    print(f\"LLM 설정 실패: {e}\")\n",
    "    exit(1)\n"
   ]
  },
  {
   "cell_type": "code",
   "execution_count": 6,
   "id": "bc1c79cb",
   "metadata": {},
   "outputs": [
    {
     "name": "stdout",
     "output_type": "stream",
     "text": [
      "==> 7. 프롬프트 설정...\n",
      "프롬프트 설정 완료\n"
     ]
    }
   ],
   "source": [
    "\n",
    "# 7. 프롬프트 설정\n",
    "print(\"==> 7. 프롬프트 설정...\")\n",
    "prompt_template = \"\"\"당신은 BlueJ 프로그래밍 환경 전문가입니다.\n",
    "아래 문서 내용을 바탕으로 정확하고 친절한 답변을 제공해주세요.\n",
    "\n",
    "문서 내용:\n",
    "{context}\n",
    "\n",
    "질문: {question}\n",
    "\n",
    "답변 규칙:\n",
    "1. 문서 내용만을 근거로 답변하세요\n",
    "2. 단계별로 설명하세요  \n",
    "3. 구체적인 메뉴명, 버튼명을 포함하세요\n",
    "4. 문서에 없는 정보는 \"문서에서 찾을 수 없습니다\"라고 하세요\n",
    "\n",
    "답변:\"\"\"\n",
    "\n",
    "prompt = PromptTemplate(\n",
    "    template=prompt_template,\n",
    "    input_variables=[\"context\", \"question\"]\n",
    ")\n",
    "print(\"프롬프트 설정 완료\")\n"
   ]
  },
  {
   "cell_type": "code",
   "execution_count": 7,
   "id": "ac8f2fc5",
   "metadata": {},
   "outputs": [
    {
     "name": "stdout",
     "output_type": "stream",
     "text": [
      "==> 8. QA 체인 생성...\n",
      "RAG 파이프라인 구축 완료\n"
     ]
    }
   ],
   "source": [
    "\n",
    "# 8. QA 체인 생성\n",
    "print(\"==> 8. QA 체인 생성...\")\n",
    "try:\n",
    "    qa_chain = RetrievalQA.from_chain_type(\n",
    "        llm=llm,\n",
    "        chain_type=\"stuff\",\n",
    "        retriever=retriever,\n",
    "        chain_type_kwargs={\"prompt\": prompt},\n",
    "        return_source_documents=True\n",
    "    )\n",
    "    print(\"RAG 파이프라인 구축 완료\")\n",
    "except Exception as e:\n",
    "    print(f\"QA 체인 생성 실패: {e}\")\n",
    "    exit(1)\n"
   ]
  },
  {
   "cell_type": "code",
   "execution_count": null,
   "id": "44969472",
   "metadata": {},
   "outputs": [
    {
     "name": "stdout",
     "output_type": "stream",
     "text": [
      "\n",
      "============================================================\n",
      " 로컬 RAG 시스템 테스트\n",
      "============================================================\n",
      "\n",
      "【테스트 1/2】\n",
      "질문: BlueJ에서 객체를 생성하는 방법은 무엇인가요?\n",
      "답변 생성 중...\n",
      "\n",
      "답변: (응답시간: 5.9초)\n",
      "--------------------------------------------------\n",
      "BlueJ에서 객체를 생성하는 방법은 다음과 같습니다:\n",
      "\n",
      "1. **클래스 선택**: 먼저 BlueJ의 클래스 탭을 클릭하여 필요한 클래스를 선택합니다.\n",
      "2. **생성 메뉴 선택**: 선택한 클래스에 해당하는 \"생성\" 또는 \"New Instance of...\" 메뉴를 클릭합니다.\n",
      "3. **변수 입력**: 생성된 객체에 필요한 변수 값을 입력하거나, 기본값으로 초기화할 수 있습니다.\n",
      "4. **실행 버튼 클릭**: 생성된 객체가 필요로 하는 메서드나 함수를 호출하려면 \"실행\" 또는 \"Run...\" 버튼을 클릭합니다.\n",
      "\n",
      "이 과정에서 BlueJ는 자동으로 클래스의 인스턴스(객체)를 만듭니다. 생성된 객체는 프로그램 내에서 사용될 수 있으며, 필요한 변수와 메서드를 통해 데이터를 관리하고 수행할 수 있습니다.\n",
      "\n",
      "참조 문서:\n",
      "   1. 페이지 3: 4 1. 서문 1.1. BlueJ의 소개 본 튜토리얼은 BlueJ 프로그래밍 환경을 사용하...\n",
      "   2. 페이지 33: 34 10.기타 기능들 10.1. BlueJ로 만들지 않은 패키지 오픈하기   BlueJ는...\n",
      "\n",
      "----------------------------------------\n",
      "\n",
      "【테스트 2/2】\n",
      "질문: 컴파일 오류가 발생했을 때 어떻게 확인할 수 있나요?\n",
      "답변 생성 중...\n",
      "\n",
      "답변: (응답시간: 5.0초)\n",
      "--------------------------------------------------\n",
      "컴파일 오류가 발생했을 때 확인할 수 있는 방법은 다음과 같습니다:\n",
      "\n",
      "1. **메뉴 선택**: \n",
      "   - 프로그램 실행 메뉴를 클릭합니다.\n",
      "   - 메뉴에서 \"Compile...\" 또는 \"Compile and Run\"을 선택합니다.\n",
      "\n",
      "2. **디버깅 창 확인**:\n",
      "   - 디버거 창이 나타나면, 오류 메시지가 표시됩니다.\n",
      "   - 오류 메시지는 오류의 위치와 함께 설명된 상태로 보입니다.\n",
      "\n",
      "3. **오류 메시지 확인**:\n",
      "   - 오류 메시지를 클릭하여 더 많은 정보를 볼 수 있습니다.\n",
      "   - 이 메시지에는 오류 코드, 발생한 오류의 종류, 그리고 필요한 수정사항이 포함됩니다.\n",
      "\n",
      "4. **실행 중단점 설정**:\n",
      "   - 컴파일 오류가 발생하면 프로그램은 오류에 대응하는 부분에서 멈춥니다.\n",
      "   - 이 경우, 오류 메시지나 오류 코드를 통해 오류의 위치와 원인을 파악할 수 있습니다.\n",
      "\n",
      "5. **디버깅 창에서 오류 확인**:\n",
      "   - 디버거 창에서 오류 메시지를 클릭하여 더 많은 정보를 볼 수 있습니다.\n",
      "   - 이 메시지에는 오류 코드, 발생한 오류의 종류, 그리고 필요한 수정사항이 포함됩니다.\n",
      "\n",
      "6. **문서에서 찾을 수 없는 경우**:\n",
      "   - 컴파일 오류가 발생하면 프로그램은 오류에 대응하는 부분에서 멈춥니다.\n",
      "   - 이 경우, 오류 메시지나 오류 코드를 통해 오류의 위치와 원인을 파악할 수 있습니다.\n",
      "\n",
      "이러한 방법들을 사용하여 컴파일 오류가 발생했을 때 확인하고 해결할 수 있는 정보를 얻을 수 있습니다.\n",
      "\n",
      "참조 문서:\n",
      "   1. 페이지 25: 프로그램 실행이 일시 중단 되면, 프로그램 실행에 의해 생성되어 실행중인 객체들의 현재  ...\n",
      "   2. 페이지 27: 28 7.2. 코드의 단계별 실행 현재 실행을 일시 중지한 상태이며(메소드는 실제로 실행이...\n",
      "\n",
      "----------------------------------------\n",
      "\n",
      "테스트 완료! (총 소요시간: 10.9초)\n",
      "\n",
      "============================================================\n",
      " 대화형 모드 (종료: 'quit' 입력)\n",
      "============================================================\n",
      "답변 생성 중...\n",
      "\n",
      "답변: (응답시간: 2.6초)\n",
      "--------------------------------------------------\n",
      "죄송합니다, 그러나 질문이 \"escape\"와 관련이 없어 보입니다. 이 문제를 해결하기 위해 필요한 정보가 문서에서 찾을 수 없습니다. 다른 도움이 필요하시다면 언제든지 말씀해주세요!\n",
      "답변 생성 중...\n",
      "\n",
      "답변: (응답시간: 4.0초)\n",
      "--------------------------------------------------\n",
      "오늘의 날씨는 아프리카 반도의 남쪽으로 이어지는 해안 지역이 가장 따뜻합니다. 이 지역은 햇살이 강하게 falling하여, 그곳에서는 매우 뜨거운 기후가 존재합니다. 또한, 이 지역에는 많은 바다와 해수면이 있습니다. 이러한 환경은 물과 수중 생물에 적합한 조건을 제공하며, 이는 다양한 종류의 생명체를 포함하는 복잡한 생태계를 형성합니다.\n",
      "\n",
      "문서에서 찾을 수 없는 정보로는 오늘의 날씨와 관련된 특정 지역이나 기후 조건이 문서 내에 없음을 나타냅니다. 따라서 오늘의 날씨에 대한 구체적인 정보는 이 문서에서 찾을 수 없습니다.\n"
     ]
    }
   ],
   "source": [
    "\n",
    "# 9. 테스트 실행\n",
    "print(\"\\n\" + \"=\" * 60)\n",
    "print(\" 로컬 RAG 시스템 테스트\")\n",
    "print(\"=\" * 60)\n",
    "\n",
    "test_questions = [\n",
    "    \"BlueJ에서 객체를 생성하는 방법은 무엇인가요?\",\n",
    "    \"컴파일 오류가 발생했을 때 어떻게 확인할 수 있나요?\"\n",
    "]\n",
    "\n",
    "total_start_time = time.time()\n",
    "\n",
    "for i, question in enumerate(test_questions, 1):\n",
    "    print(f\"\\n【테스트 {i}/{len(test_questions)}】\")\n",
    "    print(f\"질문: {question}\")\n",
    "    print(\"답변 생성 중...\")\n",
    "    \n",
    "    question_start_time = time.time()\n",
    "    \n",
    "    try:\n",
    "        result = qa_chain.invoke({\"query\": question})\n",
    "        answer = result[\"result\"]\n",
    "        source_docs = result[\"source_documents\"]\n",
    "        \n",
    "        question_time = time.time() - question_start_time\n",
    "        \n",
    "        print(f\"\\n답변: (응답시간: {question_time:.1f}초)\")\n",
    "        print(\"-\" * 50)\n",
    "        print(answer)\n",
    "        \n",
    "        print(f\"\\n참조 문서:\")\n",
    "        for j, doc in enumerate(source_docs[:2], 1):\n",
    "            page = doc.metadata.get('page', 'N/A')\n",
    "            preview = doc.page_content[:50].replace('\\n', ' ')\n",
    "            print(f\"   {j}. 페이지 {page}: {preview}...\")\n",
    "            \n",
    "    except Exception as e:\n",
    "        print(f\"답변 생성 실패: {e}\")\n",
    "    \n",
    "    print(\"\\n\" + \"-\" * 40)\n",
    "\n",
    "total_time = time.time() - total_start_time\n",
    "print(f\"\\n테스트 완료! (총 소요시간: {total_time:.1f}초)\")\n",
    "\n",
    "# 10. 대화형 모드\n",
    "print(\"\\n\" + \"=\" * 60)\n",
    "print(\" 대화형 모드 (종료: 'quit' 입력)\")\n",
    "print(\"=\" * 60)\n",
    "\n",
    "while True:\n",
    "    try:\n",
    "        user_question = input(\"\\n질문을 입력하세요: \").strip()\n",
    "        \n",
    "        if user_question.lower() in ['quit', 'exit', '종료', 'q']:\n",
    "            print(\"RAG 시스템을 종료합니다.\")\n",
    "            break\n",
    "            \n",
    "        if not user_question:\n",
    "            continue\n",
    "            \n",
    "        print(\"답변 생성 중...\")\n",
    "        start_time = time.time()\n",
    "        \n",
    "        result = qa_chain.invoke({\"query\": user_question})\n",
    "        answer = result[\"result\"]\n",
    "        response_time = time.time() - start_time\n",
    "        \n",
    "        print(f\"\\n답변: (응답시간: {response_time:.1f}초)\")\n",
    "        print(\"-\" * 50)\n",
    "        print(answer)\n",
    "        \n",
    "    except KeyboardInterrupt:\n",
    "        print(\"\\nRAG 시스템을 종료합니다.\")\n",
    "        break\n",
    "    except Exception as e:\n",
    "        print(f\"오류 발생: {e}\")\n",
    "\n",
    "print(\"\\n로컬 RAG 시스템 세션 종료!\")"
   ]
  }
 ],
 "metadata": {
  "kernelspec": {
   "display_name": "langchain-basic-kGdHTiMZ-py3.12",
   "language": "python",
   "name": "python3"
  },
  "language_info": {
   "codemirror_mode": {
    "name": "ipython",
    "version": 3
   },
   "file_extension": ".py",
   "mimetype": "text/x-python",
   "name": "python",
   "nbconvert_exporter": "python",
   "pygments_lexer": "ipython3",
   "version": "3.12.7"
  }
 },
 "nbformat": 4,
 "nbformat_minor": 5
}
